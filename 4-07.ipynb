{
 "metadata": {
  "language_info": {
   "codemirror_mode": {
    "name": "ipython",
    "version": 3
   },
   "file_extension": ".py",
   "mimetype": "text/x-python",
   "name": "python",
   "nbconvert_exporter": "python",
   "pygments_lexer": "ipython3",
   "version": "3.8.2-final"
  },
  "orig_nbformat": 2,
  "kernelspec": {
   "name": "python_defaultSpec_1597668052769",
   "display_name": "Python 3.8.2 32-bit"
  }
 },
 "nbformat": 4,
 "nbformat_minor": 2,
 "cells": [
  {
   "cell_type": "code",
   "execution_count": 1,
   "metadata": {},
   "outputs": [],
   "source": [
    "def outer(a,b):\n",
    "    print('outer function (a,b)=({},{})'.format(a,b))\n",
    "    def inner(c,d):\n",
    "        print('inner function (c,d)=({},{})'.format(c,d))\n",
    "        return c*d\n",
    "    return inner(a,b)"
   ]
  },
  {
   "cell_type": "code",
   "execution_count": 2,
   "metadata": {
    "tags": []
   },
   "outputs": [
    {
     "output_type": "stream",
     "name": "stdout",
     "text": "outer function (a,b)=(4,7)\ninner function (c,d)=(4,7)\n28\n"
    }
   ],
   "source": [
    "a=outer(4,7)\n",
    "print(a)"
   ]
  },
  {
   "cell_type": "code",
   "execution_count": 6,
   "metadata": {},
   "outputs": [],
   "source": [
    "def knights(saying):\n",
    "    def inner(quote):\n",
    "        return \"we are the knights who say: '%s'\" % quote\n",
    "        return inner(saying)\n",
    "\n",
    "knights('Ni!')"
   ]
  },
  {
   "cell_type": "code",
   "execution_count": 9,
   "metadata": {},
   "outputs": [],
   "source": [
    "def make_circle_erea_func(pi = 3.14):\n",
    "    '''円の面積を計算する関数を作る'''\n",
    "\n",
    "    def circle_area(radius):\n",
    "        '''円の面積を計算する'''\n",
    "\n",
    "        return radius * radius * pi\n",
    "\n",
    "    return circle_area\n",
    "\n",
    "#piが初期設定（３．１４）のとき\n",
    "circle_area_default = make_circle_erea_func()\n",
    "#piが3.1415926535の時\n",
    "circle_area_precise = make_circle_erea_func(pi=3.1415926535)"
   ]
  },
  {
   "cell_type": "code",
   "execution_count": 10,
   "metadata": {},
   "outputs": [
    {
     "output_type": "execute_result",
     "data": {
      "text/plain": "(function, function)"
     },
     "metadata": {},
     "execution_count": 10
    }
   ],
   "source": [
    "type(circle_area_default),type(circle_area_precise)"
   ]
  },
  {
   "cell_type": "code",
   "execution_count": 11,
   "metadata": {
    "tags": []
   },
   "outputs": [
    {
     "output_type": "stream",
     "name": "stdout",
     "text": "12.56\n12.566370614\n"
    }
   ],
   "source": [
    "#半径2の円の面積、piの制度が異なる\n",
    "print(circle_area_default(2))\n",
    "print(circle_area_precise(2))"
   ]
  },
  {
   "cell_type": "code",
   "execution_count": 12,
   "metadata": {
    "tags": []
   },
   "outputs": [
    {
     "output_type": "stream",
     "name": "stdout",
     "text": "1\n2\n3\n"
    }
   ],
   "source": [
    "def makecounter():\n",
    "    '''呼ばれるためにカウントを1ずつ増やすカウンタ変数を生成する'''\n",
    "    n =0\n",
    "    def count():\n",
    "        nonlocal n\n",
    "        n+=1\n",
    "        return n\n",
    "    return count\n",
    "\n",
    "counter = makecounter()\n",
    "print(counter())\n",
    "print(counter())\n",
    "print(counter())"
   ]
  },
  {
   "cell_type": "code",
   "execution_count": 13,
   "metadata": {
    "tags": []
   },
   "outputs": [
    {
     "output_type": "stream",
     "name": "stdout",
     "text": "==== flag: Red\nSelection is 0 which may be the default\n====\n==== flag: Blue\nYour choise is 1\n====\n"
    }
   ],
   "source": [
    "def show_message(num=0):\n",
    "    \"\"\"入力値に応じて違うメッセージを表示する\n",
    "\n",
    "        入力:0orそれ以外\n",
    "        \"\"\"\n",
    "    if num ==0:\n",
    "        flag = \"Red\"\n",
    "        print(\"==== flag:\",flag)\n",
    "        print(\"Selection is\",num,\"which may be the default\")\n",
    "        print(\"====\")\n",
    "    else:\n",
    "        flag =\"Blue\"\n",
    "        print(\"==== flag:\",flag)\n",
    "        print(\"Your choise is\",num)\n",
    "        print(\"====\")\n",
    "\n",
    "show_message(0)\n",
    "show_message(1)"
   ]
  },
  {
   "cell_type": "code",
   "execution_count": 14,
   "metadata": {
    "tags": []
   },
   "outputs": [
    {
     "output_type": "stream",
     "name": "stdout",
     "text": "==== flag: Red\nSelection is 0 which may be the default\n====\n==== flag: Blue\nYour choise is 1\n====\n"
    }
   ],
   "source": [
    "def show_message(num=0):\n",
    "    \"\"\"入力値に応じて違うメッセージを表示する\n",
    "\n",
    "        入力:0orそれ以外\n",
    "        \"\"\"\n",
    "    def decolate(func):\n",
    "        if num == 0:\n",
    "            flag =\"Red\"\n",
    "        else:\n",
    "            flag =\"Blue\"\n",
    "\n",
    "        print(\"==== flag:\",flag)\n",
    "        func()\n",
    "        print(\"====\")\n",
    "\n",
    "    def show_selection(num=num):\n",
    "        if num ==0:\n",
    "            print(\"Selection is\",num,\"which may be the default\")\n",
    "        else:\n",
    "            print(\"Your choise is\",num)\n",
    "\n",
    "    decolate(show_selection)\n",
    "\n",
    "show_message(0)\n",
    "show_message(1)\n"
   ]
  },
  {
   "cell_type": "code",
   "execution_count": 17,
   "metadata": {},
   "outputs": [],
   "source": [
    "def make_addfunc():\n",
    "    def add(x,y):\n",
    "        return x+y\n",
    "    return add"
   ]
  },
  {
   "cell_type": "code",
   "execution_count": 18,
   "metadata": {
    "tags": []
   },
   "outputs": [
    {
     "output_type": "stream",
     "name": "stdout",
     "text": "11\n"
    }
   ],
   "source": [
    "adder = make_addfunc()\n",
    "answer = adder(1,10)\n",
    "print(answer)"
   ]
  },
  {
   "cell_type": "code",
   "execution_count": 19,
   "metadata": {},
   "outputs": [],
   "source": [
    "def make_addfunc():\n",
    "    print('足し算する関数を作成')\n",
    "    def add(x,y):\n",
    "        print('{}+{}={}'.format(x,y,x+y))\n",
    "        return x+y\n",
    "    return add"
   ]
  },
  {
   "cell_type": "code",
   "execution_count": 20,
   "metadata": {
    "tags": []
   },
   "outputs": [
    {
     "output_type": "stream",
     "name": "stdout",
     "text": "足し算する関数を作成\n"
    }
   ],
   "source": [
    "adder = make_addfunc()"
   ]
  },
  {
   "cell_type": "code",
   "execution_count": 21,
   "metadata": {
    "tags": []
   },
   "outputs": [
    {
     "output_type": "stream",
     "name": "stdout",
     "text": "1+10=11\n"
    }
   ],
   "source": [
    "answer=adder(1,10)"
   ]
  },
  {
   "cell_type": "code",
   "execution_count": 22,
   "metadata": {
    "tags": []
   },
   "outputs": [
    {
     "output_type": "stream",
     "name": "stdout",
     "text": "11\n"
    }
   ],
   "source": [
    "print(answer)"
   ]
  },
  {
   "cell_type": "code",
   "execution_count": null,
   "metadata": {},
   "outputs": [],
   "source": []
  }
 ]
}