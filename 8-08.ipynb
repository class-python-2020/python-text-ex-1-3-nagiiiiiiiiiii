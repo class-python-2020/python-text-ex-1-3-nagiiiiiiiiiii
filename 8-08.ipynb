{
 "metadata": {
  "language_info": {
   "codemirror_mode": {
    "name": "ipython",
    "version": 3
   },
   "file_extension": ".py",
   "mimetype": "text/x-python",
   "name": "python",
   "nbconvert_exporter": "python",
   "pygments_lexer": "ipython3",
   "version": "3.8.2-final"
  },
  "orig_nbformat": 2,
  "kernelspec": {
   "name": "python_defaultSpec_1598160898633",
   "display_name": "Python 3.8.2 32-bit"
  }
 },
 "nbformat": 4,
 "nbformat_minor": 2,
 "cells": [
  {
   "cell_type": "code",
   "execution_count": 2,
   "metadata": {},
   "outputs": [],
   "source": [
    "import sqlite3\n",
    "\n",
    "#sample.dbという名前のデータベースファイル\n",
    "db='sample.db'\n",
    "\n",
    "#データベースに接続:Connectionオブジェクトを作成\n",
    "#データベースがすでに存在するときはそのまま接続\n",
    "#データベースがないときは新しく作成して接続\n",
    "con=sqlite3.connect(db)\n",
    "\n",
    "#カーソルオブジェクトを作成\n",
    "csr = con.cursor()\n",
    "#テーブルを作成\n",
    "sql ='create table Employee(name,email,department,position);'\n",
    "csr.execute(sql)\n",
    "\n",
    "#保存\n",
    "con.commit()\n",
    "#接続を終了\n",
    "con.close()"
   ]
  },
  {
   "cell_type": "code",
   "execution_count": 4,
   "metadata": {
    "tags": []
   },
   "outputs": [
    {
     "output_type": "stream",
     "name": "stdout",
     "text": "[('Yamada', 'yamada@abcxyz.co.jp', 'Sales', 'staff'), ('Suzuki', 'suzuki@abcxyz.co.jp', 'Development', 'staff')]\n[('Suzuki', 'suzuki@abcxyz.co.jp', 'Development', 'staff')]\n[('Suzuki', 'suzuki@abcxyz.co.jp', 'Development', 'staff')]\n"
    }
   ],
   "source": [
    "import sqlite3\n",
    "\n",
    "#sample.db という名前のデータベースファイル\n",
    "db='sample.db'\n",
    "#データベースの接続\n",
    "con=sqlite3.connect(db)\n",
    "#カーソルオブジェクトを作成\n",
    "csr=con.cursor()\n",
    "#テーブルにデータを格納\n",
    "sql=\"insert into Employee(name,email,department,position)\\\n",
    "values('Yamada','yamada@abcxyz.co.jp','Sales','staff');\"\n",
    "csr.execute(sql)\n",
    "sql=\"insert into Employee(name,email,department,position)\\\n",
    "values('Suzuki','suzuki@abcxyz.co.jp','Development','staff');\"\n",
    "csr.execute(sql)\n",
    "\n",
    "#この時点の内容を確認\n",
    "sql=\"select*from Employee;\"\n",
    "csr.execute(sql)\n",
    "print(csr.fetchall())\n",
    "\n",
    "#テーブルからデータを削除\n",
    "sql=\"delete from Employee where name = 'Yamada';\"\n",
    "csr.execute(sql)\n",
    "\n",
    "#この時点の内容を確認\n",
    "sql=\"select*from Employee;\"\n",
    "csr.execute(sql)\n",
    "print(csr.fetchall())\n",
    "\n",
    "#テーブル中のデータを更新\n",
    "sql = \"update Employee set position='Manager' where name ='Suzki';\"\n",
    "csr.execute(sql)\n",
    "\n",
    "#保存\n",
    "con.commit()\n",
    "\n",
    "#内容を読み取って表示\n",
    "sql = \"select * from Employee;\"\n",
    "csr.execute(sql)\n",
    "print(csr.fetchall())\n",
    "\n",
    "#接続を終了\n",
    "con.close()"
   ]
  },
  {
   "cell_type": "code",
   "execution_count": 5,
   "metadata": {},
   "outputs": [
    {
     "output_type": "error",
     "ename": "ProgrammingError",
     "evalue": "Cannot operate on a closed database.",
     "traceback": [
      "\u001b[1;31m---------------------------------------------------------------------------\u001b[0m",
      "\u001b[1;31mProgrammingError\u001b[0m                          Traceback (most recent call last)",
      "\u001b[1;32m<ipython-input-5-28c38117db1b>\u001b[0m in \u001b[0;36m<module>\u001b[1;34m\u001b[0m\n\u001b[1;32m----> 1\u001b[1;33m \u001b[0mcsr\u001b[0m\u001b[1;33m.\u001b[0m\u001b[0mexecute\u001b[0m\u001b[1;33m(\u001b[0m\u001b[1;34m'drop table data_set'\u001b[0m\u001b[1;33m)\u001b[0m\u001b[1;33m\u001b[0m\u001b[1;33m\u001b[0m\u001b[0m\n\u001b[0m\u001b[0;32m      2\u001b[0m \u001b[0mcon\u001b[0m\u001b[1;33m.\u001b[0m\u001b[0mcommit\u001b[0m\u001b[1;33m(\u001b[0m\u001b[1;33m)\u001b[0m\u001b[1;33m\u001b[0m\u001b[1;33m\u001b[0m\u001b[0m\n",
      "\u001b[1;31mProgrammingError\u001b[0m: Cannot operate on a closed database."
     ]
    }
   ],
   "source": [
    "csr.execute('drop table data_set')\n",
    "con.commit()"
   ]
  },
  {
   "cell_type": "code",
   "execution_count": 7,
   "metadata": {},
   "outputs": [
    {
     "output_type": "error",
     "ename": "OperationalError",
     "evalue": "table human already exists",
     "traceback": [
      "\u001b[1;31m---------------------------------------------------------------------------\u001b[0m",
      "\u001b[1;31mOperationalError\u001b[0m                          Traceback (most recent call last)",
      "\u001b[1;32m<ipython-input-7-09f69f69d375>\u001b[0m in \u001b[0;36m<module>\u001b[1;34m\u001b[0m\n\u001b[0;32m      4\u001b[0m \u001b[0mcsr\u001b[0m \u001b[1;33m=\u001b[0m\u001b[0mcon\u001b[0m\u001b[1;33m.\u001b[0m\u001b[0mcursor\u001b[0m\u001b[1;33m(\u001b[0m\u001b[1;33m)\u001b[0m\u001b[1;33m\u001b[0m\u001b[1;33m\u001b[0m\u001b[0m\n\u001b[0;32m      5\u001b[0m \u001b[1;33m\u001b[0m\u001b[0m\n\u001b[1;32m----> 6\u001b[1;33m \u001b[0mcsr\u001b[0m\u001b[1;33m.\u001b[0m\u001b[0mexecute\u001b[0m\u001b[1;33m(\u001b[0m\u001b[1;34m'create table human(name,nickname);'\u001b[0m\u001b[1;33m)\u001b[0m\u001b[1;33m\u001b[0m\u001b[1;33m\u001b[0m\u001b[0m\n\u001b[0m\u001b[0;32m      7\u001b[0m \u001b[1;33m\u001b[0m\u001b[0m\n\u001b[0;32m      8\u001b[0m \u001b[0mcsr\u001b[0m\u001b[1;33m.\u001b[0m\u001b[0mexecute\u001b[0m\u001b[1;33m(\u001b[0m\u001b[1;34m\"insert into human(name) values('Ichiro);\"\u001b[0m\u001b[1;33m)\u001b[0m\u001b[1;33m\u001b[0m\u001b[1;33m\u001b[0m\u001b[0m\n",
      "\u001b[1;31mOperationalError\u001b[0m: table human already exists"
     ]
    }
   ],
   "source": [
    "import sqlite3\n",
    "db = 'test.db'\n",
    "con=sqlite3.connect(db)\n",
    "csr =con.cursor()\n",
    "\n",
    "csr.execute('create table human(name,nickname);')\n",
    "\n",
    "csr.execute(\"insert into human(name) values('Ichiro);\")\n",
    "csr.execute(\"insert into human(name) values('Jiro);\")\n",
    "csr.execute(\"insert into human(name) values('Saburo);\")\n",
    "\n",
    "csr.execute(\"update human set nickname='Lazer' where name='Ichiro';\")\n",
    "\n",
    "csr.execute(\"select * from human;\")\n",
    "print(csr.fetchall())\n",
    "\n",
    "con.commit()\n",
    "con.close()"
   ]
  },
  {
   "cell_type": "code",
   "execution_count": 8,
   "metadata": {},
   "outputs": [],
   "source": [
    "import sqlite3"
   ]
  },
  {
   "cell_type": "code",
   "execution_count": 10,
   "metadata": {},
   "outputs": [],
   "source": [
    "db='test.db'\n",
    "con=sqlite3.connect(db)\n",
    "csr =con.cursor()"
   ]
  },
  {
   "cell_type": "code",
   "execution_count": 11,
   "metadata": {},
   "outputs": [
    {
     "output_type": "error",
     "ename": "OperationalError",
     "evalue": "table human already exists",
     "traceback": [
      "\u001b[1;31m---------------------------------------------------------------------------\u001b[0m",
      "\u001b[1;31mOperationalError\u001b[0m                          Traceback (most recent call last)",
      "\u001b[1;32m<ipython-input-11-bb874db16c0b>\u001b[0m in \u001b[0;36m<module>\u001b[1;34m\u001b[0m\n\u001b[1;32m----> 1\u001b[1;33m \u001b[0mcsr\u001b[0m\u001b[1;33m.\u001b[0m\u001b[0mexecute\u001b[0m\u001b[1;33m(\u001b[0m\u001b[1;34m'create table human(name,nickname);'\u001b[0m\u001b[1;33m)\u001b[0m\u001b[1;33m\u001b[0m\u001b[1;33m\u001b[0m\u001b[0m\n\u001b[0m",
      "\u001b[1;31mOperationalError\u001b[0m: table human already exists"
     ]
    }
   ],
   "source": [
    "csr.execute('create table human(name,nickname);')"
   ]
  },
  {
   "cell_type": "code",
   "execution_count": 12,
   "metadata": {},
   "outputs": [
    {
     "output_type": "error",
     "ename": "OperationalError",
     "evalue": "unrecognized token: \"'Ichiro);\"",
     "traceback": [
      "\u001b[1;31m---------------------------------------------------------------------------\u001b[0m",
      "\u001b[1;31mOperationalError\u001b[0m                          Traceback (most recent call last)",
      "\u001b[1;32m<ipython-input-12-975413cfd757>\u001b[0m in \u001b[0;36m<module>\u001b[1;34m\u001b[0m\n\u001b[1;32m----> 1\u001b[1;33m \u001b[0mcsr\u001b[0m\u001b[1;33m.\u001b[0m\u001b[0mexecute\u001b[0m\u001b[1;33m(\u001b[0m\u001b[1;34m\"insert into human(name) values('Ichiro);\"\u001b[0m\u001b[1;33m)\u001b[0m\u001b[1;33m\u001b[0m\u001b[1;33m\u001b[0m\u001b[0m\n\u001b[0m\u001b[0;32m      2\u001b[0m \u001b[0mcsr\u001b[0m\u001b[1;33m.\u001b[0m\u001b[0mexecute\u001b[0m\u001b[1;33m(\u001b[0m\u001b[1;34m\"insert into human(name) values('Jiro);\"\u001b[0m\u001b[1;33m)\u001b[0m\u001b[1;33m\u001b[0m\u001b[1;33m\u001b[0m\u001b[0m\n\u001b[0;32m      3\u001b[0m \u001b[0mcsr\u001b[0m\u001b[1;33m.\u001b[0m\u001b[0mexecute\u001b[0m\u001b[1;33m(\u001b[0m\u001b[1;34m\"insert into human(name) values('Saburo);\"\u001b[0m\u001b[1;33m)\u001b[0m\u001b[1;33m\u001b[0m\u001b[1;33m\u001b[0m\u001b[0m\n",
      "\u001b[1;31mOperationalError\u001b[0m: unrecognized token: \"'Ichiro);\""
     ]
    }
   ],
   "source": [
    "csr.execute(\"insert into human(name) values('Ichiro);\")\n",
    "csr.execute(\"insert into human(name) values('Jiro);\")\n",
    "csr.execute(\"insert into human(name) values('Saburo);\")"
   ]
  },
  {
   "cell_type": "code",
   "execution_count": 13,
   "metadata": {},
   "outputs": [
    {
     "output_type": "execute_result",
     "data": {
      "text/plain": "<sqlite3.Cursor at 0xb11920>"
     },
     "metadata": {},
     "execution_count": 13
    }
   ],
   "source": [
    "csr.execute(\"update human set nickname='Lazer' where name='Ichiro';\")"
   ]
  },
  {
   "cell_type": "code",
   "execution_count": 14,
   "metadata": {
    "tags": []
   },
   "outputs": [
    {
     "output_type": "stream",
     "name": "stdout",
     "text": "[]\n"
    }
   ],
   "source": [
    "csr.execute(\"select * from human;\")\n",
    "print(csr.fetchall())\n",
    "\n",
    "con.commit()\n",
    "con.close()"
   ]
  },
  {
   "cell_type": "code",
   "execution_count": 17,
   "metadata": {
    "tags": []
   },
   "outputs": [
    {
     "output_type": "stream",
     "name": "stdout",
     "text": "[]\n"
    }
   ],
   "source": [
    "import sqlite3\n",
    "\n",
    "db='test.db'\n",
    "con=sqlite3.connect(db)\n",
    "csr=con.cursor()\n",
    "csr.execute(\"update human set nickname='Lazer' where name= 'Jiro';\")\n",
    "csr.execute(\"delete from human where nickname='Lazer';\")\n",
    "\n",
    "csr.execute(\"select * from human;\")\n",
    "print(csr.fetchall())\n",
    "\n",
    "con.commit()\n",
    "con.close()"
   ]
  },
  {
   "cell_type": "code",
   "execution_count": 18,
   "metadata": {},
   "outputs": [
    {
     "output_type": "error",
     "ename": "ProgrammingError",
     "evalue": "Cannot operate on a closed database.",
     "traceback": [
      "\u001b[1;31m---------------------------------------------------------------------------\u001b[0m",
      "\u001b[1;31mProgrammingError\u001b[0m                          Traceback (most recent call last)",
      "\u001b[1;32m<ipython-input-18-ae506b3fa716>\u001b[0m in \u001b[0;36m<module>\u001b[1;34m\u001b[0m\n\u001b[1;32m----> 1\u001b[1;33m \u001b[0mcsr\u001b[0m\u001b[1;33m.\u001b[0m\u001b[0mexecute\u001b[0m\u001b[1;33m(\u001b[0m\u001b[1;34m\"update human set nickname='Lazer' where name= 'Jiro';\"\u001b[0m\u001b[1;33m)\u001b[0m\u001b[1;33m\u001b[0m\u001b[1;33m\u001b[0m\u001b[0m\n\u001b[0m",
      "\u001b[1;31mProgrammingError\u001b[0m: Cannot operate on a closed database."
     ]
    }
   ],
   "source": [
    "csr.execute(\"update human set nickname='Lazer' where name= 'Jiro';\")"
   ]
  },
  {
   "cell_type": "code",
   "execution_count": 19,
   "metadata": {},
   "outputs": [
    {
     "output_type": "error",
     "ename": "ProgrammingError",
     "evalue": "Cannot operate on a closed database.",
     "traceback": [
      "\u001b[1;31m---------------------------------------------------------------------------\u001b[0m",
      "\u001b[1;31mProgrammingError\u001b[0m                          Traceback (most recent call last)",
      "\u001b[1;32m<ipython-input-19-086402168678>\u001b[0m in \u001b[0;36m<module>\u001b[1;34m\u001b[0m\n\u001b[1;32m----> 1\u001b[1;33m \u001b[0mcsr\u001b[0m\u001b[1;33m.\u001b[0m\u001b[0mexecute\u001b[0m\u001b[1;33m(\u001b[0m\u001b[1;34m\"delete from human where nickname='Lazer';\"\u001b[0m\u001b[1;33m)\u001b[0m\u001b[1;33m\u001b[0m\u001b[1;33m\u001b[0m\u001b[0m\n\u001b[0m",
      "\u001b[1;31mProgrammingError\u001b[0m: Cannot operate on a closed database."
     ]
    }
   ],
   "source": [
    "csr.execute(\"delete from human where nickname='Lazer';\")"
   ]
  },
  {
   "cell_type": "code",
   "execution_count": null,
   "metadata": {},
   "outputs": [],
   "source": []
  }
 ]
}